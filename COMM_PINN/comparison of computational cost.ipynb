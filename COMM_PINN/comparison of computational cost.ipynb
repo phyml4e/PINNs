{
  "nbformat": 4,
  "nbformat_minor": 0,
  "metadata": {
    "colab": {
      "provenance": [],
      "include_colab_link": true
    },
    "kernelspec": {
      "name": "python3",
      "display_name": "Python 3"
    },
    "language_info": {
      "name": "python"
    }
  },
  "cells": [
    {
      "cell_type": "markdown",
      "metadata": {
        "id": "view-in-github",
        "colab_type": "text"
      },
      "source": [
        "<a href=\"https://colab.research.google.com/github/phyml4e/PINNs/blob/main/COMM_PINN/umat.ipynb\" target=\"_parent\"><img src=\"https://colab.research.google.com/assets/colab-badge.svg\" alt=\"Open In Colab\"/></a>"
      ]
    },
    {
      "cell_type": "code",
      "execution_count": null,
      "metadata": {
        "id": "D6qPkj1v9o8E"
      },
      "outputs": [],
      "source": [
        "import numpy as np\n",
        "import math"
      ]
    },
    {
      "cell_type": "markdown",
      "source": [
        "# umat functions"
      ],
      "metadata": {
        "id": "LgXvdsSt-XSl"
      }
    },
    {
      "cell_type": "code",
      "source": [
        "# material model\n",
        "def TSL(gv, d_i, xid_i, prop):\n",
        "\n",
        "  ks1 = prop[0]             # Initial stiffness\n",
        "  ks2 = prop[1]             # Initial stiffness\n",
        "  kn  = prop[2]             # Initial stiffness\n",
        "  h1  = prop[3]             # Interface damage hardening parameter 1\n",
        "  h2  = prop[4]             # Interface damage hardening parameter 2\n",
        "  y0  = prop[5]             # damage onset\n",
        "\n",
        "  K   = np.array([[ks1, 0, 0], [0, ks2, 0], [0, 0, kn]])\n",
        "  En  = np.dot(np.dot(gv, K), gv)\n",
        "  YT = (1 - d_i)*En\n",
        "  phi = YT - (y0 + h1*(1 - math.exp(-h2*xid_i)))    # Damage criteria\n",
        "\n",
        "  if phi < 0:              # elastic step\n",
        "    d   = d_i\n",
        "    xid = xid_i\n",
        "    #tngMM = ((1-d)**2)*k0\n",
        "  else:                    # damage step\n",
        "    d   = d_i\n",
        "    xid = xid_i\n",
        "    Y   = (1 - d)*En\n",
        "    rd = np.zeros([2, 1])\n",
        "    rd[0,0] = d - d_i - (xid - xid_i)\n",
        "    rd[1,0] = Y - (y0 + h1*(1 - math.exp(-h2*xid)))\n",
        "\n",
        "    while np.linalg.norm(rd) > 10**(-13):\n",
        "\n",
        "      Kd      = np.zeros([2,2])\n",
        "      Kd[0,0] = 1\n",
        "      Kd[0,1] = -1\n",
        "      Kd[1,0] = -En\n",
        "      Kd[1,1] = -h1*h2*math.exp(-h2*xid)\n",
        "\n",
        "      Dsol    = np.linalg.lstsq(-Kd, rd,rcond=None)[0]\n",
        "      d       = d + Dsol[0,0]\n",
        "      xid     = xid + Dsol[1,0]\n",
        "      Y       = (1 - d)*En\n",
        "\n",
        "      rd[0,0] = d - d_i - (xid - xid_i)                   # final evol eq\n",
        "      rd[1,0] = Y - (y0 + h1*(1 - math.exp(-h2*xid)))     # final yeild fn\n",
        "\n",
        "    if d < d_i:\n",
        "      d = d_i\n",
        "      xid = xid_i\n",
        "\n",
        "  tra = ((1-d)**2)*np.dot(K, np.transpose(gv))\n",
        "  ene = ((1-d)**2)*0.5*En + (h1*(xid + (math.exp(-h2*xid)-1)/h2))\n",
        "\n",
        "  return tra,d,xid,ene"
      ],
      "metadata": {
        "id": "RZgcryuz93q1"
      },
      "execution_count": null,
      "outputs": []
    },
    {
      "cell_type": "code",
      "source": [
        "# feed_forward material model\n",
        "def ReLU(x):\n",
        "    return x * (x > 0)\n",
        "def feed_forward(inputs, weights, biases):\n",
        "\n",
        "    layer_inputs = np.array(inputs).reshape(1, -1)\n",
        "    for i in range(len(weights)-1):\n",
        "        layer_weights = weights[i]\n",
        "        layer_biases = biases[i]\n",
        "        layer_outputs = np.dot(layer_inputs, layer_weights) + layer_biases\n",
        "        layer_outputs = ReLU(layer_outputs)  # Apply the tanh activation function\n",
        "        layer_inputs = layer_outputs\n",
        "\n",
        "    last_layer_weights = weights[-1]\n",
        "    last_layer_biases = biases[-1]\n",
        "    last_layer_outputs = np.dot(layer_inputs, last_layer_weights) + last_layer_biases\n",
        "\n",
        "    return last_layer_outputs"
      ],
      "metadata": {
        "id": "_iIzZ9M_9-oM"
      },
      "execution_count": null,
      "outputs": []
    },
    {
      "cell_type": "markdown",
      "source": [
        "# initialization"
      ],
      "metadata": {
        "id": "RdDAGS57-crV"
      }
    },
    {
      "cell_type": "code",
      "source": [
        "# Material Parameters\n",
        "ks1  = 0.5         # Initial stiffness\n",
        "ks2  = 2.0         # Initial stiffness\n",
        "kn   = 5.0         # Initial stiffness\n",
        "h1   = 2.0         # Interface damage hardening parameter 1\n",
        "h2   = 1.0         # Interface damage hardening parameter 2\n",
        "y0   = 0.1         # Damage onset\n",
        "prop = [ks1, ks2, kn, h1, h2, y0]"
      ],
      "metadata": {
        "id": "3zShSCTK-sa0"
      },
      "execution_count": null,
      "outputs": []
    },
    {
      "cell_type": "code",
      "source": [
        "step_size = 0.05\n",
        "num_steps = int(1 / step_size) + 1\n",
        "Gap = np.zeros((num_steps,3))\n",
        "Tra = np.zeros((num_steps,3))\n",
        "Dmg = np.zeros((num_steps))\n",
        "Xid = np.zeros((num_steps))\n",
        "Ene = np.zeros((num_steps))\n",
        "\n",
        "for i in range(num_steps):\n",
        "    t = i * step_size\n",
        "    Gap[i,:] = np.array([0.5*abs(np.sin(3.1415*2*t)), 0.5*abs(np.cos(3.1415*2*t)), 0.5*t**2])"
      ],
      "metadata": {
        "id": "Hmlr7SYv-IQe"
      },
      "execution_count": null,
      "outputs": []
    },
    {
      "cell_type": "code",
      "source": [
        "x1_NN = Gap[:,0]\n",
        "x1_NN = x1_NN.reshape(-1,1)\n",
        "x2_NN = Gap[:,1]\n",
        "x2_NN = x2_NN.reshape(-1,1)\n",
        "x3_NN = Gap[:,2]\n",
        "x3_NN = x3_NN.reshape(-1,1)\n",
        "x4_NN = np.zeros_like(x1_NN)\n",
        "x5_NN = np.zeros_like(x1_NN)\n",
        "trc_N = np.zeros_like(Gap)"
      ],
      "metadata": {
        "id": "HRE3fTCS_Lal"
      },
      "execution_count": null,
      "outputs": []
    },
    {
      "cell_type": "code",
      "source": [
        "weights = []\n",
        "with open('cz_3d.txt', 'r') as file:\n",
        "    array_lines = file.read().split('---\\n')\n",
        "    for array_line in array_lines:\n",
        "        if array_line.strip():\n",
        "            lines = array_line.strip().split('\\n')\n",
        "            shape_line = lines[0]\n",
        "            array_data = np.genfromtxt(lines[1:], delimiter=',')\n",
        "            weights.append(array_data)"
      ],
      "metadata": {
        "id": "1vd0ZfiYC73M"
      },
      "execution_count": null,
      "outputs": []
    },
    {
      "cell_type": "code",
      "source": [
        "weights1 = np.array(weights[0])\n",
        "weights2 = np.array(weights[1])\n",
        "weights3 = np.array(weights[2])\n",
        "weights4 = np.array(weights[3])\n",
        "bias1 = np.array(weights[4])\n",
        "bias2 = np.array(weights[5])\n",
        "bias3 = np.array(weights[6])\n",
        "bias4 = np.array(weights[7])\n",
        "weightss = [weights1,weights2,weights3,weights4]\n",
        "biases = [bias1,bias2,bias3,bias4]"
      ],
      "metadata": {
        "id": "mE2_L79U_uK2"
      },
      "execution_count": null,
      "outputs": []
    },
    {
      "cell_type": "markdown",
      "source": [
        "# computational cost"
      ],
      "metadata": {
        "id": "ZDEid_kf-tq9"
      }
    },
    {
      "cell_type": "code",
      "source": [
        "# computational cost of the material model\n",
        "%%timeit\n",
        "for i in range(num_steps-1):\n",
        "    Tra[i+1,:], Dmg[i+1], Xid[i+1], Ene[i+1] = TSL(Gap[i+1,:], Dmg[i], Xid[i], prop)"
      ],
      "metadata": {
        "colab": {
          "base_uri": "https://localhost:8080/"
        },
        "id": "hhG03K9p-j3k",
        "outputId": "0dc056f0-aafc-407a-df21-15409d903d39"
      },
      "execution_count": null,
      "outputs": [
        {
          "output_type": "stream",
          "name": "stdout",
          "text": [
            "2.17 ms ± 562 µs per loop (mean ± std. dev. of 7 runs, 100 loops each)\n"
          ]
        }
      ]
    },
    {
      "cell_type": "code",
      "source": [
        "# computational cost of the COMM_PINN\n",
        "%%timeit\n",
        "for k in range(len(Gap)-1):\n",
        "    inp = [ x1_NN[k+1], x2_NN[k+1], x3_NN[k+1], x4_NN[k], x5_NN[k] ]\n",
        "    x4_NN[k+1]   = feed_forward(inp , weightss, biases)"
      ],
      "metadata": {
        "colab": {
          "base_uri": "https://localhost:8080/"
        },
        "id": "84TCASMa_KN9",
        "outputId": "a35cf799-eb08-4702-daba-a1797988c4e7"
      },
      "execution_count": null,
      "outputs": [
        {
          "output_type": "stream",
          "name": "stdout",
          "text": [
            "706 µs ± 12.5 µs per loop (mean ± std. dev. of 7 runs, 1000 loops each)\n"
          ]
        }
      ]
    }
  ]
}
